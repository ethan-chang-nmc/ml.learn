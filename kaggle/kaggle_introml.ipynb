{
 "cells": [
  {
   "cell_type": "markdown",
   "id": "19e2f350",
   "metadata": {},
   "source": [
    "<h1>Introduction</h1>\n",
    "<h4>How Models Work</h4>\n",
    "<b>Decision Tree</b> <br>\n",
    "<ul>\n",
    "    <li> Need to fit/train the model </li>\n",
    "    <ul>\n",
    "        <li> Training data used to fit (capture patterns from data) </li>\n",
    "    </ul>\n",
    "    <li> Can caputure more factors with more splits -> deeper trees </li>\n",
    "    <li> Bottom of tree (where we make predition) is called a leaf </li>\n",
    "</ul>"
   ]
  },
  {
   "cell_type": "markdown",
   "id": "4cf2f9c9",
   "metadata": {},
   "source": [
    "<h4>Basic Data Exploration</h4>\n",
    "<b>Pandas</b>"
   ]
  },
  {
   "cell_type": "code",
   "execution_count": null,
   "id": "2c2ef082",
   "metadata": {},
   "outputs": [
    {
     "ename": "",
     "evalue": "",
     "output_type": "error",
     "traceback": [
      "\u001b[1;31mRunning cells with 'base (Python 3.10.14)' requires the ipykernel package.\n",
      "\u001b[1;31m<a href='command:jupyter.createPythonEnvAndSelectController'>Create a Python Environment</a> with the required packages.\n",
      "\u001b[1;31mOr install 'ipykernel' using the command: 'conda install -n base ipykernel --update-deps --force-reinstall'"
     ]
    }
   ],
   "source": [
    "# Loading Data\n",
    "import pandas as pd\n",
    "iowa_file_path = '../input/home-data-for-ml-course/train.csv'\n",
    "home_data = pd.read_csv(iowa_file_path)\n",
    "\n",
    "# Print summary statistics in next line\n",
    "home_data.describe()\n",
    "# What is the average lot size (rounded to nearest integer)?\n",
    "avg_lot_size = 10517\n",
    "# As of today, how old is the newest home (current year - the date in which it was built)\n",
    "newest_home_age = 15"
   ]
  },
  {
   "cell_type": "markdown",
   "id": "e93c9223",
   "metadata": {},
   "source": [
    "<h4> First ML Model"
   ]
  },
  {
   "cell_type": "code",
   "execution_count": null,
   "id": "1be14708",
   "metadata": {},
   "outputs": [],
   "source": [
    "import pandas as pd\n",
    "\n",
    "melbourne_file_path = '../input/melbourne-housing-snapshot/melb_data.csv'\n",
    "melbourne_data = pd.read_csv(melbourne_file_path) \n",
    "melbourne_data.columns\n",
    "\n",
    "# dropna drops missing values (think of na as \"not available\")\n",
    "melbourne_data = melbourne_data.dropna(axis=0)\n",
    "\n",
    "# Prediction target\n",
    "y = melbourne_data.Price\n",
    "\n",
    "# Feature targets\n",
    "melbourne_features = ['Rooms', 'Bathroom', 'Landsize', 'Lattitude', 'Longtitude']\n",
    "\n",
    "# Convention naming\n",
    "X = melbourne_data[melbourne_features]"
   ]
  }
 ],
 "metadata": {
  "kernelspec": {
   "display_name": "base",
   "language": "python",
   "name": "python3"
  },
  "language_info": {
   "name": "python",
   "version": "3.10.14"
  }
 },
 "nbformat": 4,
 "nbformat_minor": 5
}
