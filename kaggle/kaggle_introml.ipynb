{
 "cells": [
  {
   "cell_type": "markdown",
   "id": "19e2f350",
   "metadata": {},
   "source": [
    "<h1>Introduction</h1>\n",
    "<h4>How Models Work</h4>\n",
    "<b>Decision Tree</b> <br>\n",
    "<ul>\n",
    "    <li> Need to fit/train the model </li>\n",
    "    <ul>\n",
    "        <li> Training data used to fit (capture patterns from data) </li>\n",
    "    </ul>\n",
    "    <li> Can caputure more factors with more splits -> depper trees </li>\n",
    "    <li> Bottom of tree (where we make predition) is called a leaf </li>\n",
    "</ul>"
   ]
  },
  {
   "cell_type": "markdown",
   "id": "4cf2f9c9",
   "metadata": {},
   "source": [
    "<h4>Basic Data Exploration</h4>\n",
    "<b>Pandas</b>"
   ]
  },
  {
   "cell_type": "code",
   "execution_count": null,
   "id": "2c2ef082",
   "metadata": {},
   "outputs": [],
   "source": [
    "# Loading Data\n",
    "import pandas as pd\n",
    "iowa_file_path = '../input/home-data-for-ml-course/train.csv'\n",
    "home_data = pd.read_csv(iowa_file_path)\n",
    "\n"
   ]
  }
 ],
 "metadata": {
  "kernelspec": {
   "display_name": "base",
   "language": "python",
   "name": "python3"
  },
  "language_info": {
   "name": "python",
   "version": "3.10.14"
  }
 },
 "nbformat": 4,
 "nbformat_minor": 5
}
